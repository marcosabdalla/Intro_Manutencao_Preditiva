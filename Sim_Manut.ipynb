{
  "cells": [
    {
      "cell_type": "markdown",
      "metadata": {
        "id": "view-in-github",
        "colab_type": "text"
      },
      "source": [
        "<a href=\"https://colab.research.google.com/github/marcosabdalla/Intro_Manutencao_Preditiva/blob/main/Sim_Manut.ipynb\" target=\"_parent\"><img src=\"https://colab.research.google.com/assets/colab-badge.svg\" alt=\"Open In Colab\"/></a>"
      ]
    },
    {
      "cell_type": "markdown",
      "source": [
        "# Exemplificação de um processo de Manutenção Preditiva\n",
        "\n",
        "Vamos supor que temos uma bomba de água e esta bomba tem sensores que monitoram a vazão da água que flui por ela e a velocidade de rotação do eixo. Para este exemplo, vamos considerar que o funcionamento normal temos que, em baixa rotação, a vazão do líquido é baixa e em alta rotação, a vazão é alta. Qualquer atividade fora dessas duas condições de normalidade, podemos considerar como defeito na bomba. Aqui o termo \"defeito\" será genérico, logo não vamos definir o tipo de defeito!"
      ],
      "metadata": {
        "id": "0w8IBlL8O2_V"
      }
    },
    {
      "cell_type": "markdown",
      "source": [
        "# Vamos começar importando as bibliotecas necessárias:"
      ],
      "metadata": {
        "id": "dId1OU5zQfQa"
      }
    },
    {
      "cell_type": "code",
      "execution_count": null,
      "metadata": {
        "id": "oPx9_H34Yn48"
      },
      "outputs": [],
      "source": [
        "import numpy as np # Biblioteca matemática\n",
        "import matplotlib.pyplot as plt # Biblioteca para criação de gráficos\n",
        "from sklearn import datasets # Biblioteca de onde sairá os dados\n",
        "from tensorflow.keras.optimizers import Adam # Otimizador\n",
        "import keras # Biblioteca responsável pelo desenvolvimento da Rede Neural\n",
        "from keras.models import Sequential # Biblioteca responsável pelo desenvolvimento da Rede Neural\n",
        "from keras.layers import Dense # Biblioteca responsável pelo desenvolvimento da Rede Neural\n",
        "from keras.utils.np_utils import to_categorical # Biblioteca responsável pelo desenvolvimento da Rede Neural\n",
        "import pandas as pd # Biblioteca usada para organizar os dados."
      ]
    },
    {
      "cell_type": "markdown",
      "source": [
        "Criar uma função que mostra as regiões de operação da bomba e define também uma fronteira entre as condições."
      ],
      "metadata": {
        "id": "I9rDlgVgQo8d"
      }
    },
    {
      "cell_type": "code",
      "execution_count": null,
      "metadata": {
        "id": "DjDc8kc0YqNC"
      },
      "outputs": [],
      "source": [
        "def plot_decision_boundary(X, y_cat, model):\n",
        "    x_span = np.linspace(min(X[:, 0]) - 0.25, max(X[:, 0]) + 0.25,50)\n",
        "    y_span = np.linspace(min(X[:, 1]) - 0.25, max(X[:, 1]) + 0.25,50)\n",
        "    xx, yy = np.meshgrid(x_span, y_span)\n",
        "    xx_, yy_ = xx.ravel(), yy.ravel()\n",
        "    grid = np.c_[xx_, yy_]\n",
        "    pred_func = np.argmax(model.predict(grid), axis=-1)\n",
        "    z = pred_func.reshape(xx.shape)\n",
        "    plt.contourf(xx, yy, z)"
      ]
    },
    {
      "cell_type": "markdown",
      "source": [
        "# Criar os dados\n",
        "Vamos supor que os sensores acoplados na bomba, entregaram 3 tipos de dados:\n",
        "\n",
        "\n",
        "*   Bomba operando com alta rotação e alta vazão (normal)\n",
        "*   Bomba operando com baixa rotação e baixa vazão (normal)\n",
        "*   Bomba operando com alta rotação e baixa vazão (falha)\n",
        "\n",
        "Estes dados serão criados na forma de grupos (ou clusters) com centros definidos em um ponto do plano cartesiano (x,y) e ao redor destes pontos vamos sortear aleatoriamente os pontos. Vamos propor então um centro em (1,1) que é uma condição de operação normal, um centro em (5,5) que também é uma operação normal e por fim um centro em (1,4) que será o centro da região de operação com falha.\n",
        "\n"
      ],
      "metadata": {
        "id": "3WpDWYunRA2k"
      }
    },
    {
      "cell_type": "code",
      "execution_count": null,
      "metadata": {
        "colab": {
          "base_uri": "https://localhost:8080/",
          "height": 279
        },
        "id": "OFLaJsg4Zw79",
        "outputId": "86cb4910-d438-41d1-b38c-254e163609a4"
      },
      "outputs": [
        {
          "output_type": "display_data",
          "data": {
            "text/plain": [
              "<Figure size 432x288 with 1 Axes>"
            ],
            "image/png": "[encoded data removed]"
          },
          "metadata": {
            "needs_background": "light"
          }
        }
      ],
      "source": [
        "n_pts = 500 # Numeros de pontos espalhados pelos 3 centrole\n",
        "centros = [[1, 1],[1, 4] , [5, 5]] # centro dos clustes de dados 0 -> 1,1, 1 -> 1,4, 2 -> 5,5\n",
        "x1, y1 = datasets.make_blobs(n_samples = n_pts, random_state = 123, centers = centros, cluster_std = 0.4) # cria os dados\n",
        "# Visualiar os dados\n",
        "plt.scatter(x1[y1==0, 0], x1[y1==0, 1])\n",
        "plt.scatter(x1[y1==1, 0], x1[y1==1, 1])\n",
        "plt.scatter(x1[y1==2, 0], x1[y1==2, 1])\n",
        "plt.scatter(x1[y1==3, 0], x1[y1==3, 1])\n",
        "plt.scatter(x1[y1==4, 0], x1[y1==4, 1])\n",
        "plt.scatter(x1[y1==5, 0], x1[y1==5, 1])\n",
        "plt.xlabel(\"Vazão\")\n",
        "plt.ylabel(\"Velocidade\")\n",
        "plt.show()"
      ]
    },
    {
      "cell_type": "markdown",
      "source": [
        "Estamos usando aqui um gerador de dados do sklearn que tem o propósito de gerar dados para usar em sistemas de aprendizado de máquina. O interessante dele é que a função make_blobs fornece na saída os dados de entrada \"x\" e as respectivas classes \"y\".\n",
        "\n",
        "Um ponto importante com relação as classes é que neste exemplo, que são 0, 1 e 2, não podem ser utilizadas nesta forma pois a rede pode entender estes números, não como uma classe propriamente dita e sim como valores numéricos. Sendo assim, vamos a seguir criar três classes diferentes usando uma técnica conhecida como one-hot-encode. Assim as classes serão:\n",
        "\n",
        "* Classe 0: 1,0,0\n",
        "* Classe 1: 0,1,0\n",
        "* Classe 2: 0,0,1"
      ],
      "metadata": {
        "id": "DyUXFBLwWjlN"
      }
    },
    {
      "cell_type": "code",
      "source": [
        "# Cria as 3 classes usando o one-hot-encode\n",
        "y_cat = to_categorical(y1, 3)"
      ],
      "metadata": {
        "id": "MqdIrN1Sijav"
      },
      "execution_count": null,
      "outputs": []
    },
    {
      "cell_type": "markdown",
      "source": [
        "# Criar a rede neural\n",
        "\n",
        "Ok, então até aqui, criamos os dados que serão utilizados na rede bem como suas respectivas classes. Agora vamos criar a arquitetura da rede que irá classificar os dados.\n",
        "\n",
        "Primeiro vamos analisar os nossos dados:\n",
        "A variável x é um vetor de 2 colunas (velocidade e vazão) e 500 linhas. Com essa informação vamos criar a camada de entrada da nossa rede. Ela vai ter então dois valores de entrada, aqui achei interessante passar estes dois valores por três neurônios.\n",
        "A saída dessa nossa rede deve ser um valor que represente a probabilidade de ser uma das 3 classes. Logo, nossa camada de saída terá 3 neurônios. \n",
        "\n",
        "Por exemplo, suponha que para uma velocidade de 1.1 e uma vazão de 0.5, a saída da rede seja: $[0.90, 0.04, 0.06]$ então a rede esta indicando que existe uma probabilidade de 90% dessa operação ser da classe 0."
      ],
      "metadata": {
        "id": "wQskw3ZzZ5Dp"
      }
    },
    {
      "cell_type": "code",
      "source": [
        "def cria_modelo():\n",
        "  modelo = keras.Sequential([\n",
        "                            Dense(3, activation='relu', input_shape = (2,)), # Camada de entrada\n",
        "                            Dense(3, activation='softmax')]) # Camada de saida\n",
        "  return modelo\n",
        "modelo = cria_modelo()\n",
        "#modelo.summary()\n",
        "\n",
        "modelo.compile(Adam(0.001), loss = 'categorical_crossentropy', metrics = ['accuracy'])\n",
        "modelo.fit(x = x1, y = y_cat, verbose = 0, batch_size = 25, epochs = 140, shuffle = 'true')\n",
        "# Os dados serão enviados em bateladas de 25 valores\n",
        "# O treinamento será realizado em 130 épocas (a princípio...)\n",
        "# Para não ficar vendo a saída da rede, mude o verbose para 0"
      ],
      "metadata": {
        "id": "JXM3sUxvkHIw",
        "colab": {
          "base_uri": "https://localhost:8080/"
        },
        "outputId": "519ac862-617f-4938-d814-c11008f7928b"
      },
      "execution_count": null,
      "outputs": [
        {
          "output_type": "execute_result",
          "data": {
            "text/plain": [
              "<keras.callbacks.History at 0x7fcedbec1710>"
            ]
          },
          "metadata": {},
          "execution_count": 22
        }
      ]
    },
    {
      "cell_type": "markdown",
      "source": [
        "No código acima temos alguns parâmetros que merecem ser comentados. Vamos começar pelas camadas da rede. Essas duas camadas são criadas como Densas (Dense) isso quer dizer que todos os neurônios de uma camada, estão conectados a todos os neurônios da camada seguinte. Depois disso temos duas funções de ativação;\n",
        "\n",
        "A ReLU que em inglês significa Rectified Linear Unit e a\n",
        "\n",
        "Softmax que é usada na classificação de múltiplas classes.\n",
        "\n",
        "E o otimizador utilizado é o Adam que é um algorítmo que implementa a descida do gradiente estocástica.\n",
        "\n",
        "Obs:. para aqueles que entendem mais sobre aprendizado de máquina... sim eu usei todos os dados para treinamento da rede e o motivo é que eu não estou interessado em mostrar o quão bom é essa rede... e sim demonstrar o que ela pode fazer! Ok?"
      ],
      "metadata": {
        "id": "jnLMoH6uY4Gl"
      }
    },
    {
      "cell_type": "markdown",
      "source": [
        "# Visualizar as regiões de operação\n",
        "\n",
        "Com a rede devidamente treinada, podemos visualizar as três diferentes regiões que propusemos para a operação da bomba. Para melhor visualizar, coloquei também os dados de treinamento."
      ],
      "metadata": {
        "id": "xigBuxLgfU6Q"
      }
    },
    {
      "cell_type": "code",
      "source": [
        "plot_decision_boundary(x1, y_cat, modelo)\n",
        "plt.scatter(x1[y1==0, 0], x1[y1==0, 1])\n",
        "plt.scatter(x1[y1==1, 0], x1[y1==1, 1])\n",
        "plt.scatter(x1[y1==2, 0], x1[y1==2, 1])\n",
        "plt.scatter(x1[y1==3, 0], x1[y1==3, 1])\n",
        "plt.scatter(x1[y1==4, 0], x1[y1==4, 1])\n",
        "plt.scatter(x1[y1==5, 0], x1[y1==5, 1])\n",
        "plt.xlabel(\"Vazão\")\n",
        "plt.ylabel(\"Velocidade\")\n",
        "plt.show()"
      ],
      "metadata": {
        "colab": {
          "base_uri": "https://localhost:8080/",
          "height": 279
        },
        "id": "DjPBvMMWqP96",
        "outputId": "23fa2df7-ccdc-40a6-a55d-bdbed36c676b"
      },
      "execution_count": null,
      "outputs": [
        {
          "output_type": "display_data",
          "data": {
            "text/plain": [
              "<Figure size 432x288 with 1 Axes>"
            ],
            "image/png": "[encoded data removed]"
          },
          "metadata": {
            "needs_background": "light"
          }
        }
      ]
    },
    {
      "cell_type": "markdown",
      "source": [
        "# Testar a rede\n",
        "\n",
        "É comum separar parte dos dados coletados em dados de treinamento e dados de validação. No entanto para manter um exemplo simplificado, achei melhor usar todos os dados para treinar a rede e eu mesmo criar dados que simulem a tomada de amostras com o passar do tempo.\n",
        "\n",
        "Vamos supor então uma situação ideal onde a máquina acabou de passar por uma manutenção preveniva e está funcionando completamente bem. Supondo então que o mês de análise dos dados da bomba, tenha 4 semanas.\n",
        "No final da primeira semana os valores dos sensores foi (1,1). No final da segunda semana (1,1.33), no final da terceira (1,1.67) e no final da última semana (1,2). De modo a mostrar que de uma semana para outra vazão permaneceu contante apesar do aumento da velocidade."
      ],
      "metadata": {
        "id": "nPzDu6_mgClY"
      }
    },
    {
      "cell_type": "code",
      "source": [
        "# Criar os dados de teste\n",
        "lmin = 1 # Valor minimo\n",
        "lmax = 2 # Valor máximo\n",
        "pts = 4 # Numero de amostras (1 por semana)\n",
        "vel = np.linspace(lmin,lmax,pts) # Cria um vetor com os dados\n",
        "vaz = np.ones(len(vel))"
      ],
      "metadata": {
        "id": "IGYdlUXyyt08"
      },
      "execution_count": null,
      "outputs": []
    },
    {
      "cell_type": "code",
      "source": [
        "dados = pd.DataFrame(vel, columns = [\"Velocidade\"])\n",
        "dados.insert(1,\"Vazao\",vaz)\n",
        "dados"
      ],
      "metadata": {
        "colab": {
          "base_uri": "https://localhost:8080/",
          "height": 175
        },
        "id": "02Wkpd_iBLx1",
        "outputId": "45ba8f0a-352f-4696-e3f7-707bdfef3a48"
      },
      "execution_count": null,
      "outputs": [
        {
          "output_type": "execute_result",
          "data": {
            "text/plain": [
              "   Velocidade  Vazao\n",
              "0    1.000000    1.0\n",
              "1    1.333333    1.0\n",
              "2    1.666667    1.0\n",
              "3    2.000000    1.0"
            ],
            "text/html": [
              "\n",
              "  <div id=\"df-eb6e08dd-5d90-4cfe-95d2-0a72e9dc6507\">\n",
              "    <div class=\"colab-df-container\">\n",
              "      <div>\n",
              "<style scoped>\n",
              "    .dataframe tbody tr th:only-of-type {\n",
              "        vertical-align: middle;\n",
              "    }\n",
              "\n",
              "    .dataframe tbody tr th {\n",
              "        vertical-align: top;\n",
              "    }\n",
              "\n",
              "    .dataframe thead th {\n",
              "        text-align: right;\n",
              "    }\n",
              "</style>\n",
              "<table border=\"1\" class=\"dataframe\">\n",
              "  <thead>\n",
              "    <tr style=\"text-align: right;\">\n",
              "      <th></th>\n",
              "      <th>Velocidade</th>\n",
              "      <th>Vazao</th>\n",
              "    </tr>\n",
              "  </thead>\n",
              "  <tbody>\n",
              "    <tr>\n",
              "      <th>0</th>\n",
              "      <td>1.000000</td>\n",
              "      <td>1.0</td>\n",
              "    </tr>\n",
              "    <tr>\n",
              "      <th>1</th>\n",
              "      <td>1.333333</td>\n",
              "      <td>1.0</td>\n",
              "    </tr>\n",
              "    <tr>\n",
              "      <th>2</th>\n",
              "      <td>1.666667</td>\n",
              "      <td>1.0</td>\n",
              "    </tr>\n",
              "    <tr>\n",
              "      <th>3</th>\n",
              "      <td>2.000000</td>\n",
              "      <td>1.0</td>\n",
              "    </tr>\n",
              "  </tbody>\n",
              "</table>\n",
              "</div>\n",
              "      <button class=\"colab-df-convert\" onclick=\"convertToInteractive('df-eb6e08dd-5d90-4cfe-95d2-0a72e9dc6507')\"\n",
              "              title=\"Convert this dataframe to an interactive table.\"\n",
              "              style=\"display:none;\">\n",
              "        \n",
              "  <svg xmlns=\"http://www.w3.org/2000/svg\" height=\"24px\"viewBox=\"0 0 24 24\"\n",
              "       width=\"24px\">\n",
              "    <path d=\"M0 0h24v24H0V0z\" fill=\"none\"/>\n",
              "    <path d=\"M18.56 5.44l.94 2.06.94-2.06 2.06-.94-2.06-.94-.94-2.06-.94 2.06-2.06.94zm-11 1L8.5 8.5l.94-2.06 2.06-.94-2.06-.94L8.5 2.5l-.94 2.06-2.06.94zm10 10l.94 2.06.94-2.06 2.06-.94-2.06-.94-.94-2.06-.94 2.06-2.06.94z\"/><path d=\"M17.41 7.96l-1.37-1.37c-.4-.4-.92-.59-1.43-.59-.52 0-1.04.2-1.43.59L10.3 9.45l-7.72 7.72c-.78.78-.78 2.05 0 2.83L4 21.41c.39.39.9.59 1.41.59.51 0 1.02-.2 1.41-.59l7.78-7.78 2.81-2.81c.8-.78.8-2.07 0-2.86zM5.41 20L4 18.59l7.72-7.72 1.47 1.35L5.41 20z\"/>\n",
              "  </svg>\n",
              "      </button>\n",
              "      \n",
              "  <style>\n",
              "    .colab-df-container {\n",
              "      display:flex;\n",
              "      flex-wrap:wrap;\n",
              "      gap: 12px;\n",
              "    }\n",
              "\n",
              "    .colab-df-convert {\n",
              "      background-color: #E8F0FE;\n",
              "      border: none;\n",
              "      border-radius: 50%;\n",
              "      cursor: pointer;\n",
              "      display: none;\n",
              "      fill: #1967D2;\n",
              "      height: 32px;\n",
              "      padding: 0 0 0 0;\n",
              "      width: 32px;\n",
              "    }\n",
              "\n",
              "    .colab-df-convert:hover {\n",
              "      background-color: #E2EBFA;\n",
              "      box-shadow: 0px 1px 2px rgba(60, 64, 67, 0.3), 0px 1px 3px 1px rgba(60, 64, 67, 0.15);\n",
              "      fill: #174EA6;\n",
              "    }\n",
              "\n",
              "    [theme=dark] .colab-df-convert {\n",
              "      background-color: #3B4455;\n",
              "      fill: #D2E3FC;\n",
              "    }\n",
              "\n",
              "    [theme=dark] .colab-df-convert:hover {\n",
              "      background-color: #434B5C;\n",
              "      box-shadow: 0px 1px 3px 1px rgba(0, 0, 0, 0.15);\n",
              "      filter: drop-shadow(0px 1px 2px rgba(0, 0, 0, 0.3));\n",
              "      fill: #FFFFFF;\n",
              "    }\n",
              "  </style>\n",
              "\n",
              "      <script>\n",
              "        const buttonEl =\n",
              "          document.querySelector('#df-eb6e08dd-5d90-4cfe-95d2-0a72e9dc6507 button.colab-df-convert');\n",
              "        buttonEl.style.display =\n",
              "          google.colab.kernel.accessAllowed ? 'block' : 'none';\n",
              "\n",
              "        async function convertToInteractive(key) {\n",
              "          const element = document.querySelector('#df-eb6e08dd-5d90-4cfe-95d2-0a72e9dc6507');\n",
              "          const dataTable =\n",
              "            await google.colab.kernel.invokeFunction('convertToInteractive',\n",
              "                                                     [key], {});\n",
              "          if (!dataTable) return;\n",
              "\n",
              "          const docLinkHtml = 'Like what you see? Visit the ' +\n",
              "            '<a target=\"_blank\" href=https://colab.research.google.com/notebooks/data_table.ipynb>data table notebook</a>'\n",
              "            + ' to learn more about interactive tables.';\n",
              "          element.innerHTML = '';\n",
              "          dataTable['output_type'] = 'display_data';\n",
              "          await google.colab.output.renderOutput(dataTable, element);\n",
              "          const docLink = document.createElement('div');\n",
              "          docLink.innerHTML = docLinkHtml;\n",
              "          element.appendChild(docLink);\n",
              "        }\n",
              "      </script>\n",
              "    </div>\n",
              "  </div>\n",
              "  "
            ]
          },
          "metadata": {},
          "execution_count": 45
        }
      ]
    },
    {
      "cell_type": "code",
      "source": [
        "# Organizar os dados para serem passados pela rede\n",
        "Dados = dados.to_numpy()\n",
        "Dados"
      ],
      "metadata": {
        "colab": {
          "base_uri": "https://localhost:8080/"
        },
        "id": "pPSp3-6MCZOk",
        "outputId": "15ecbcfe-463b-4049-9138-9e4e5a9e07f1"
      },
      "execution_count": null,
      "outputs": [
        {
          "output_type": "execute_result",
          "data": {
            "text/plain": [
              "array([[1.        , 1.        ],\n",
              "       [1.33333333, 1.        ],\n",
              "       [1.66666667, 1.        ],\n",
              "       [2.        , 1.        ]])"
            ]
          },
          "metadata": {},
          "execution_count": 46
        }
      ]
    },
    {
      "cell_type": "markdown",
      "source": [
        "Vamos enviar os dados para a rede criada e olhar as previsões"
      ],
      "metadata": {
        "id": "neF_S5ErX9GX"
      }
    },
    {
      "cell_type": "code",
      "source": [
        "P = []\n",
        "for i in range(len(Dados)):\n",
        "  point = np.array([[Dados[i,1], Dados[i,0]]])\n",
        "  P.append(point)\n",
        "  #pred = np.argmax(modelo.predict(point), axis=-1)\n",
        "  pred = modelo.predict(point)\n",
        "  print(pred)\n"
      ],
      "metadata": {
        "colab": {
          "base_uri": "https://localhost:8080/"
        },
        "id": "PgRC8FUZE7FQ",
        "outputId": "24a49eb0-bd14-4bb1-e715-582b5ed837cc"
      },
      "execution_count": null,
      "outputs": [
        {
          "output_type": "stream",
          "name": "stdout",
          "text": [
            "[[0.98137605 0.00761562 0.01100829]]\n",
            "[[0.96345    0.02340848 0.01314146]]\n",
            "[[0.91520053 0.06961993 0.01517961]]\n",
            "[[0.79469734 0.18927483 0.01602788]]\n"
          ]
        }
      ]
    },
    {
      "cell_type": "markdown",
      "source": [
        "Para todos os dados apresentados para a rede, foi dado como funcionamento normal. No entanto é possível observar uma movimentação do ponto de funcionamento da máquina para a região de falha.\n",
        "\n",
        "Observe os valores da primeira coluna e os valores da segunda coluna. Vemos aqui uma diminuição da probabilidade de opração normal (primeira coluna) e um aumento da probabilidade de operação com falha (segunda coluna)."
      ],
      "metadata": {
        "id": "tVmyUOAXYJ-4"
      }
    },
    {
      "cell_type": "code",
      "source": [
        "plot_decision_boundary(x1, y_cat, modelo)\n",
        "plt.scatter(x1[y1==0, 0], x1[y1==0, 1])\n",
        "plt.scatter(x1[y1==1, 0], x1[y1==1, 1])\n",
        "plt.scatter(x1[y1==2, 0], x1[y1==2, 1])\n",
        "plt.scatter(x1[y1==3, 0], x1[y1==3, 1])\n",
        "plt.scatter(x1[y1==4, 0], x1[y1==4, 1])\n",
        "plt.scatter(x1[y1==5, 0], x1[y1==5, 1])\n",
        "plt.scatter(dados['Vazao'],dados['Velocidade'], marker = 'x', color = \"r\")\n",
        "plt.xlabel(\"Vazão\")\n",
        "plt.ylabel(\"Velocidade\")\n",
        "plt.show()"
      ],
      "metadata": {
        "colab": {
          "base_uri": "https://localhost:8080/",
          "height": 279
        },
        "id": "Vbs_Ng2AFsiB",
        "outputId": "ce4107ae-bb51-48dc-ee4b-1c19a4b66e84"
      },
      "execution_count": null,
      "outputs": [
        {
          "output_type": "display_data",
          "data": {
            "text/plain": [
              "<Figure size 432x288 with 1 Axes>"
            ],
            "image/png": "[encoded data removed]"
          },
          "metadata": {
            "needs_background": "light"
          }
        }
      ]
    },
    {
      "cell_type": "markdown",
      "source": [
        "Vamos continuar a usar esta máquina, mesmo vendo que ela tende para a falha apenas para ver o que a rede nos mostra."
      ],
      "metadata": {
        "id": "LvLavQCFZa-O"
      }
    },
    {
      "cell_type": "code",
      "source": [
        "lmin = 2 # Valor minimo\n",
        "lmax = 4 # Valor máximo\n",
        "pts = 4 # Numero de amostras (1 por semana)\n",
        "vel = np.linspace(lmin,lmax,pts) # Cria um vetor com os dados\n",
        "vaz = np.ones(len(vel))\n",
        "\n",
        "dados2 = pd.DataFrame(vel, columns = [\"Velocidade\"])\n",
        "dados2.insert(1,\"Vazao\",vaz)\n",
        "\n",
        "Dados2 = dados2.to_numpy()\n",
        "\n",
        "for i in range(len(Dados2)):\n",
        "  point = np.array([[Dados2[i,1], Dados2[i,0]]])\n",
        "  #pred = np.argmax(modelo.predict(point), axis=-1)\n",
        "  pred = modelo.predict(point)\n",
        "  print(pred)\n",
        "\n",
        "plot_decision_boundary(x1, y_cat, modelo)\n",
        "plt.scatter(x1[y1==0, 0], x1[y1==0, 1])\n",
        "plt.scatter(x1[y1==1, 0], x1[y1==1, 1])\n",
        "plt.scatter(x1[y1==2, 0], x1[y1==2, 1])\n",
        "plt.scatter(x1[y1==3, 0], x1[y1==3, 1])\n",
        "plt.scatter(x1[y1==4, 0], x1[y1==4, 1])\n",
        "plt.scatter(x1[y1==5, 0], x1[y1==5, 1])\n",
        "plt.scatter(dados2['Vazao'],dados2['Velocidade'], marker = 'x', color = \"r\")\n",
        "plt.xlabel(\"Vazão\")\n",
        "plt.ylabel(\"Velocidade\")\n",
        "plt.show()"
      ],
      "metadata": {
        "colab": {
          "base_uri": "https://localhost:8080/",
          "height": 352
        },
        "id": "RTgbLiS2J5Qx",
        "outputId": "ae7af12f-1756-4338-b34a-d29095c057a2"
      },
      "execution_count": null,
      "outputs": [
        {
          "output_type": "stream",
          "name": "stdout",
          "text": [
            "[[0.79469734 0.18927483 0.01602788]]\n",
            "[[0.2972155  0.693921   0.00886351]]\n",
            "[[0.04178693 0.95637053 0.00184261]]\n",
            "[[4.4361837e-03 9.9527454e-01 2.8924321e-04]]\n"
          ]
        },
        {
          "output_type": "display_data",
          "data": {
            "text/plain": [
              "<Figure size 432x288 with 1 Axes>"
            ],
            "image/png": "[encoded data removed]"
          },
          "metadata": {
            "needs_background": "light"
          }
        }
      ]
    },
    {
      "cell_type": "code",
      "source": [
        ""
      ],
      "metadata": {
        "id": "2bSMb_3KboNi"
      },
      "execution_count": null,
      "outputs": []
    }
  ],
  "metadata": {
    "colab": {
      "collapsed_sections": [],
      "name": "Sim_Manut.ipynb",
      "provenance": [],
      "authorship_tag": "ABX9TyP6XLR2UHuHLQB0Eld2dpcb",
      "include_colab_link": true
    },
    "kernelspec": {
      "display_name": "Python 3",
      "name": "python3"
    },
    "language_info": {
      "name": "python"
    }
  },
  "nbformat": 4,
  "nbformat_minor": 0
}